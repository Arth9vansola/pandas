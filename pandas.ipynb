{
 "cells": [
  {
   "cell_type": "markdown",
   "id": "51b24f8d",
   "metadata": {},
   "source": [
    "# data manipulation : \n",
    " 1. handling in data like adding, deleting and performing some task on it like remove null entries (clean and transform data) \n",
    " 2. organize and structure raw data\n",
    "# data analysis : \n",
    " 1. getting insights from data like what is the highest marks and lowest marks like summrizing data is (generating insights from the data)\n",
    " 2. finding the pattern, trends and solve problems"
   ]
  },
  {
   "cell_type": "markdown",
   "id": "975cac94",
   "metadata": {},
   "source": [
    "# series is 1d thing used with index\n",
    "# dataframe is 2d thing used with row(indices) and column(names) and all pandas uses label things\n"
   ]
  },
  {
   "cell_type": "code",
   "execution_count": 1,
   "id": "debeed2b",
   "metadata": {},
   "outputs": [],
   "source": [
    "import pandas as pd"
   ]
  },
  {
   "cell_type": "code",
   "execution_count": 2,
   "id": "fda31d64",
   "metadata": {},
   "outputs": [
    {
     "name": "stdout",
     "output_type": "stream",
     "text": [
      "   Index   Height(Inches)\"   \"Weight(Pounds)\"\n",
      "0      1             65.78             112.99\n",
      "1      2             71.52             136.49\n",
      "2      3             69.40             153.03\n",
      "3      4             68.22             142.34\n",
      "4      5             67.79             144.30\n"
     ]
    }
   ],
   "source": [
    "df = pd.read_csv(\"hw_200.csv\",encoding=\"latin-1\")\n",
    "print(df.head())"
   ]
  },
  {
   "cell_type": "code",
   "execution_count": 3,
   "id": "2dc0db38",
   "metadata": {},
   "outputs": [
    {
     "name": "stdout",
     "output_type": "stream",
     "text": [
      "    Name  Age Department  Salary\n",
      "0    Avi   22         IT   50000\n",
      "1   Riya   24         HR   55000\n",
      "2  Karan   23    Finance   52000\n",
      "3  Sneha   21  Marketing   51000\n",
      "4  Arjun   25         IT   53000\n"
     ]
    }
   ],
   "source": [
    "df = pd.read_excel(\"sample_data.xlsx\")\n",
    "print(df)"
   ]
  },
  {
   "cell_type": "code",
   "execution_count": 4,
   "id": "8abf498b",
   "metadata": {},
   "outputs": [
    {
     "name": "stdout",
     "output_type": "stream",
     "text": [
      "   id   name  age       city  score\n",
      "0   1    Avi   23      Delhi   88.5\n",
      "1   2   Neha   25     Mumbai   92.0\n",
      "2   3   Ravi   22  Bangalore   79.0\n",
      "3   4  Sonia   24    Chennai   85.0\n",
      "4   5  Karan   21       Pune   91.0\n"
     ]
    }
   ],
   "source": [
    "df = pd.read_json(\"pandas_sample.json\")\n",
    "print(df)"
   ]
  },
  {
   "cell_type": "code",
   "execution_count": 5,
   "id": "c9117393",
   "metadata": {},
   "outputs": [
    {
     "name": "stdout",
     "output_type": "stream",
     "text": [
      "    Name  age         city\n",
      "0    avi   20     palanpur\n",
      "1     ak   30  gandhinagar\n",
      "2  devil   40    ahmedabad\n"
     ]
    }
   ],
   "source": [
    "students_data = {\n",
    "    \"Name\":[\"avi\",\"ak\",\"devil\"],\n",
    "    \"age\":[20,30,40],\n",
    "    \"city\":[\"palanpur\",\"gandhinagar\",\"ahmedabad\"]\n",
    "}\n",
    "\n",
    "df = pd.DataFrame(students_data)\n",
    "print(df)\n",
    "df.to_csv(\"output.csv\",index=False)"
   ]
  },
  {
   "cell_type": "code",
   "execution_count": 6,
   "id": "73e257fd",
   "metadata": {},
   "outputs": [
    {
     "name": "stdout",
     "output_type": "stream",
     "text": [
      "    Name  age         city\n",
      "0    avi   20     palanpur\n",
      "1     ak   30  gandhinagar\n",
      "2  devil   40    ahmedabad\n"
     ]
    }
   ],
   "source": [
    "df = pd.DataFrame(students_data)\n",
    "print(df)\n",
    "df.to_excel(\"output.xlsx\",index=False)\n",
    "df.to_json(\"output.json\",index=False)"
   ]
  },
  {
   "cell_type": "markdown",
   "id": "08cdac1f",
   "metadata": {},
   "source": [
    "# steps in dataset to perform:\n",
    "1. understand the data\n",
    "2. identify the problem\n",
    "3. plan the next step"
   ]
  },
  {
   "cell_type": "markdown",
   "id": "51d6b69a",
   "metadata": {},
   "source": [
    "1. to check first 5 entries from top .head(n) is used\n",
    "2. to check first 5 entries from end .tail(n) is used\n",
    "3. here by default value of n(int value must) is 5"
   ]
  },
  {
   "cell_type": "markdown",
   "id": "6944630f",
   "metadata": {},
   "source": [
    "# .info method is used to get the information about the data like\n",
    "1. columns, rows\n",
    "2. columns name\n",
    "3. datatypes\n",
    "4. memory usage"
   ]
  },
  {
   "cell_type": "code",
   "execution_count": 7,
   "id": "b28deaa7",
   "metadata": {},
   "outputs": [
    {
     "name": "stdout",
     "output_type": "stream",
     "text": [
      "<class 'pandas.core.frame.DataFrame'>\n",
      "RangeIndex: 3 entries, 0 to 2\n",
      "Data columns (total 3 columns):\n",
      " #   Column  Non-Null Count  Dtype \n",
      "---  ------  --------------  ----- \n",
      " 0   Name    3 non-null      object\n",
      " 1   age     3 non-null      int64 \n",
      " 2   city    3 non-null      object\n",
      "dtypes: int64(1), object(2)\n",
      "memory usage: 204.0+ bytes\n",
      "None\n"
     ]
    }
   ],
   "source": [
    "students_data2 = {\n",
    "    \"Name\":[\"avi\",\"ak\",\"devil\"],\n",
    "    \"age\":[20,30,40],\n",
    "    \"city\":[\"palanpur\",\"gandhinagar\",\"ahmedabad\"]\n",
    "}\n",
    "\n",
    "df = pd.DataFrame(students_data2)\n",
    "print(df.info())"
   ]
  },
  {
   "cell_type": "markdown",
   "id": "15224bcd",
   "metadata": {},
   "source": [
    "# .describe method is used to gain details of data like mean,std,max and all"
   ]
  },
  {
   "cell_type": "code",
   "execution_count": 8,
   "id": "dbaeb349",
   "metadata": {},
   "outputs": [
    {
     "name": "stdout",
     "output_type": "stream",
     "text": [
      "             age        salary  performance_score\n",
      "count   8.000000      8.000000           8.000000\n",
      "mean   29.125000  58250.000000          82.375000\n",
      "std     3.681518   8172.252706           8.765802\n",
      "min    24.000000  48000.000000          69.000000\n",
      "25%    26.750000  52250.000000          75.500000\n",
      "50%    28.500000  57500.000000          83.500000\n",
      "75%    31.500000  63250.000000          88.750000\n",
      "max    35.000000  71000.000000          94.000000\n"
     ]
    }
   ],
   "source": [
    "employees_data = {\n",
    "    \"name\": [\"Aarav\", \"Bhavya\", \"Chetan\", \"Divya\", \"Eshan\", \"Farah\", \"Gautam\", \"Hina\"],\n",
    "    \"age\": [28, 31, 24, 29, 26, 35, 33, 27],\n",
    "    \"salary\": [55000, 60000, 48000, 62000, 53000, 71000, 67000, 50000],\n",
    "    \"performance_score\": [82, 76, 91, 88, 69, 94, 85, 74]\n",
    "}\n",
    "\n",
    "df = pd.DataFrame(employees_data)\n",
    "print(df.describe())"
   ]
  },
  {
   "cell_type": "markdown",
   "id": "952367f2",
   "metadata": {},
   "source": [
    "# we can access shape by .shape which includes (rows,columns) and .columns to get columns names"
   ]
  },
  {
   "cell_type": "code",
   "execution_count": 9,
   "id": "e857e1ea",
   "metadata": {},
   "outputs": [
    {
     "name": "stdout",
     "output_type": "stream",
     "text": [
      "     name  age  salary  performance_score\n",
      "0   Aarav   28   55000                 82\n",
      "1  Bhavya   31   60000                 76\n",
      "2  Chetan   24   48000                 91\n",
      "3   Divya   29   62000                 88\n",
      "4   Eshan   26   53000                 69\n",
      "5   Farah   35   71000                 94\n",
      "6  Gautam   33   67000                 85\n",
      "7    Hina   27   50000                 74\n",
      "shape of it (8, 4)\n",
      "columns name Index(['name', 'age', 'salary', 'performance_score'], dtype='object')\n"
     ]
    }
   ],
   "source": [
    "employees_data2 = {\n",
    "    \"name\": [\"Aarav\", \"Bhavya\", \"Chetan\", \"Divya\", \"Eshan\", \"Farah\", \"Gautam\", \"Hina\"],\n",
    "    \"age\": [28, 31, 24, 29, 26, 35, 33, 27],\n",
    "    \"salary\": [55000, 60000, 48000, 62000, 53000, 71000, 67000, 50000],\n",
    "    \"performance_score\": [82, 76, 91, 88, 69, 94, 85, 74]\n",
    "}\n",
    "\n",
    "df = pd.DataFrame(employees_data2)\n",
    "print(df)\n",
    "print(f'shape of it {df.shape}')\n",
    "print(f'columns name {df.columns}')"
   ]
  },
  {
   "cell_type": "markdown",
   "id": "431f4287",
   "metadata": {},
   "source": [
    "# to select columns\n",
    "1. for single columns return series\n",
    "2. for multiple columns return dataframe"
   ]
  },
  {
   "cell_type": "code",
   "execution_count": 10,
   "id": "dab841ff",
   "metadata": {},
   "outputs": [
    {
     "name": "stdout",
     "output_type": "stream",
     "text": [
      "sample dataset\n",
      "     name  age  salary  performance_score\n",
      "0   Aarav   28   55000                 82\n",
      "1  Bhavya   31   60000                 76\n",
      "2  Chetan   24   48000                 91\n",
      "3   Divya   29   62000                 88\n",
      "4   Eshan   26   53000                 69\n",
      "5   Farah   35   71000                 94\n",
      "6  Gautam   33   67000                 85\n",
      "7    Hina   27   50000                 74\n",
      "selecting single Name column\n",
      "0     Aarav\n",
      "1    Bhavya\n",
      "2    Chetan\n",
      "3     Divya\n",
      "4     Eshan\n",
      "5     Farah\n",
      "6    Gautam\n",
      "7      Hina\n",
      "Name: name, dtype: object\n",
      "selecting multiple Name, Age column\n",
      "     name  age\n",
      "0   Aarav   28\n",
      "1  Bhavya   31\n",
      "2  Chetan   24\n",
      "3   Divya   29\n",
      "4   Eshan   26\n",
      "5   Farah   35\n",
      "6  Gautam   33\n",
      "7    Hina   27\n"
     ]
    }
   ],
   "source": [
    "employees_data3 = {\n",
    "    \"name\": [\"Aarav\", \"Bhavya\", \"Chetan\", \"Divya\", \"Eshan\", \"Farah\", \"Gautam\", \"Hina\"],\n",
    "    \"age\": [28, 31, 24, 29, 26, 35, 33, 27],\n",
    "    \"salary\": [55000, 60000, 48000, 62000, 53000, 71000, 67000, 50000],\n",
    "    \"performance_score\": [82, 76, 91, 88, 69, 94, 85, 74]\n",
    "}\n",
    "\n",
    "df = pd.DataFrame(employees_data3)\n",
    "print(\"sample dataset\")\n",
    "print(df)\n",
    "print('selecting single Name column')\n",
    "print(df[\"name\"]) # for single columns\n",
    "print('selecting multiple Name, Age column')\n",
    "print(df[[\"name\",\"age\"]]) # for multiple columns"
   ]
  },
  {
   "cell_type": "code",
   "execution_count": 11,
   "id": "e741798a",
   "metadata": {},
   "outputs": [
    {
     "name": "stdout",
     "output_type": "stream",
     "text": [
      "sample dataset\n",
      "     name  age  salary  performance_score\n",
      "0   Aarav   28   55000                 82\n",
      "1  Bhavya   31   60000                 76\n",
      "3   Divya   29   62000                 88\n",
      "4   Eshan   26   53000                 69\n",
      "5   Farah   35   71000                 94\n",
      "6  Gautam   33   67000                 85\n",
      "\n",
      "age is 20 plus and salary is 60,000\n",
      "     name  age  salary  performance_score\n",
      "3   Divya   29   62000                 88\n",
      "5   Farah   35   71000                 94\n",
      "6  Gautam   33   67000                 85\n",
      "\n",
      "age is 30 plus or performance_score > 90\n",
      "     name  age  salary  performance_score\n",
      "1  Bhavya   31   60000                 76\n",
      "2  Chetan   24   48000                 91\n",
      "5   Farah   35   71000                 94\n",
      "6  Gautam   33   67000                 85\n"
     ]
    }
   ],
   "source": [
    "employees_data4 = {\n",
    "    \"name\": [\"Aarav\", \"Bhavya\", \"Chetan\", \"Divya\", \"Eshan\", \"Farah\", \"Gautam\", \"Hina\"],\n",
    "    \"age\": [28, 31, 24, 29, 26, 35, 33, 27],\n",
    "    \"salary\": [55000, 60000, 48000, 62000, 53000, 71000, 67000, 50000],\n",
    "    \"performance_score\": [82, 76, 91, 88, 69, 94, 85, 74]\n",
    "}\n",
    "\n",
    "df = pd.DataFrame(employees_data4)\n",
    "print(\"sample dataset\")\n",
    "print(df[df['salary']>50000]) # based on the condition extracting data\n",
    "\n",
    "# age is 20 plus and salary is 60,000 plus\n",
    "print(\"\\nage is 20 plus and salary is 60,000\")\n",
    "print(df[(df[\"age\"]>20) & (df[\"salary\"]>60000)])\n",
    "\n",
    "# age is 30 plus or performance_score > 90\n",
    "print(\"\\nage is 30 plus or performance_score > 90\")\n",
    "print(df[(df[\"age\"] > 30) | (df[\"performance_score\"] > 90)])"
   ]
  },
  {
   "cell_type": "markdown",
   "id": "b74fb166",
   "metadata": {},
   "source": [
    "# INSERT there is two way to add new coloumns in dataframe\n",
    "1. using normal way like df[\"column_name\"] = some_data\n",
    "2. .insert method like .insert(location, \"column_name\", some_data)"
   ]
  },
  {
   "cell_type": "code",
   "execution_count": null,
   "id": "7d08f4f8",
   "metadata": {},
   "outputs": [
    {
     "name": "stdout",
     "output_type": "stream",
     "text": [
      "sample dataset\n",
      "     name  age  salary  performance_score  bonus\n",
      "0   Aarav   28   55000                 82      0\n",
      "1  Bhavya   31   60000                 76      0\n",
      "2  Chetan   24   48000                 91      0\n",
      "3   Divya   29   62000                 88      0\n",
      "4   Eshan   26   53000                 69      0\n",
      "5   Farah   35   71000                 94      0\n",
      "6  Gautam   33   67000                 85      0\n",
      "7    Hina   27   50000                 74      0\n"
     ]
    }
   ],
   "source": [
    "# way 1\n",
    "employees_data5 = {\n",
    "    \"name\": [\"Aarav\", \"Bhavya\", \"Chetan\", \"Divya\", \"Eshan\", \"Farah\", \"Gautam\", \"Hina\"],\n",
    "    \"age\": [28, 31, 24, 29, 26, 35, 33, 27],\n",
    "    \"salary\": [55000, 60000, 48000, 62000, 53000, 71000, 67000, 50000],\n",
    "    \"performance_score\": [82, 76, 91, 88, 69, 94, 85, 74]\n",
    "}\n",
    "\n",
    "df = pd.DataFrame(employees_data5)\n",
    "print(\"sample dataset\")\n",
    "df[\"bonus\"] = df[\"salary\"] * 0.1\n",
    "print(df)"
   ]
  },
  {
   "cell_type": "code",
   "execution_count": 16,
   "id": "4aef8c09",
   "metadata": {},
   "outputs": [
    {
     "name": "stdout",
     "output_type": "stream",
     "text": [
      "sample dataset\n",
      "   employee_id    name  age  salary  performance_score\n",
      "0            1   Aarav   28   55000                 82\n",
      "1            2  Bhavya   31   60000                 76\n",
      "2            3  Chetan   24   48000                 91\n",
      "3            4   Divya   29   62000                 88\n",
      "4            5   Eshan   26   53000                 69\n",
      "5            6   Farah   35   71000                 94\n",
      "6            7  Gautam   33   67000                 85\n",
      "7            8    Hina   27   50000                 74\n"
     ]
    }
   ],
   "source": [
    "# way 2\n",
    "employees_data6 = {\n",
    "    \"name\": [\"Aarav\", \"Bhavya\", \"Chetan\", \"Divya\", \"Eshan\", \"Farah\", \"Gautam\", \"Hina\"],\n",
    "    \"age\": [28, 31, 24, 29, 26, 35, 33, 27],\n",
    "    \"salary\": [55000, 60000, 48000, 62000, 53000, 71000, 67000, 50000],\n",
    "    \"performance_score\": [82, 76, 91, 88, 69, 94, 85, 74]\n",
    "}\n",
    "\n",
    "df = pd.DataFrame(employees_data6)\n",
    "print(\"sample dataset\")\n",
    "df.insert(0, \"employee_id\", range(1,9))\n",
    "print(df)"
   ]
  },
  {
   "cell_type": "markdown",
   "id": "a12097fb",
   "metadata": {},
   "source": [
    "# to update value in dataframe\n",
    "1. .loc[row_index, \"column_name\"] = new_value\n",
    "2. using local method like changing entire columns -> df[\"column_name\"] = df[\"column_name\"] * 1.05"
   ]
  },
  {
   "cell_type": "code",
   "execution_count": null,
   "id": "d9ddf2c9",
   "metadata": {},
   "outputs": [
    {
     "name": "stdout",
     "output_type": "stream",
     "text": [
      "sample dataset\n",
      "     name  age  salary  performance_score\n",
      "0   Aarav   28   55000                 82\n",
      "1  Bhavya   31   60000                 76\n",
      "2  Chetan   24   48000                 91\n",
      "3   Divya   29   62000                 88\n",
      "4   Eshan   26   53000                 69\n",
      "5   Farah   35   71000                 94\n",
      "6  Gautam   33   67000                 85\n",
      "7    Hina   27   50000                 74\n",
      "     name  age  salary  performance_score\n",
      "0   Aarav   28   55000                 82\n",
      "1  Bhavya   31   60000                 76\n",
      "2  Chetan   40   48000                 91\n",
      "3   Divya   29   62000                 88\n",
      "4   Eshan   26   53000                 69\n",
      "5   Farah   35   71000                 94\n",
      "6  Gautam   33   67000                 85\n",
      "7    Hina   27   50000                 74\n"
     ]
    }
   ],
   "source": [
    "# way 1\n",
    "employees_data7 = {\n",
    "    \"name\": [\"Aarav\", \"Bhavya\", \"Chetan\", \"Divya\", \"Eshan\", \"Farah\", \"Gautam\", \"Hina\"],\n",
    "    \"age\": [28, 31, 24, 29, 26, 35, 33, 27],\n",
    "    \"salary\": [55000, 60000, 48000, 62000, 53000, 71000, 67000, 50000],\n",
    "    \"performance_score\": [82, 76, 91, 88, 69, 94, 85, 74]\n",
    "}\n",
    "\n",
    "df = pd.DataFrame(employees_data7)\n",
    "print(\"sample dataset\")\n",
    "print(df)\n",
    "df.loc[2,\"age\"] = 40\n",
    "print(df)"
   ]
  },
  {
   "cell_type": "code",
   "execution_count": 21,
   "id": "15a70813",
   "metadata": {},
   "outputs": [
    {
     "name": "stdout",
     "output_type": "stream",
     "text": [
      "sample dataset\n",
      "     name  age  salary  performance_score\n",
      "0   Aarav   28   55000                 82\n",
      "1  Bhavya   31   60000                 76\n",
      "2  Chetan   24   48000                 91\n",
      "3   Divya   29   62000                 88\n",
      "4   Eshan   26   53000                 69\n",
      "5   Farah   35   71000                 94\n",
      "6  Gautam   33   67000                 85\n",
      "7    Hina   27   50000                 74\n",
      "     name  age   salary  performance_score\n",
      "0   Aarav   28  57750.0                 82\n",
      "1  Bhavya   31  63000.0                 76\n",
      "2  Chetan   24  50400.0                 91\n",
      "3   Divya   29  65100.0                 88\n",
      "4   Eshan   26  55650.0                 69\n",
      "5   Farah   35  74550.0                 94\n",
      "6  Gautam   33  70350.0                 85\n",
      "7    Hina   27  52500.0                 74\n"
     ]
    }
   ],
   "source": [
    "# way 2\n",
    "employees_data7 = {\n",
    "    \"name\": [\"Aarav\", \"Bhavya\", \"Chetan\", \"Divya\", \"Eshan\", \"Farah\", \"Gautam\", \"Hina\"],\n",
    "    \"age\": [28, 31, 24, 29, 26, 35, 33, 27],\n",
    "    \"salary\": [55000, 60000, 48000, 62000, 53000, 71000, 67000, 50000],\n",
    "    \"performance_score\": [82, 76, 91, 88, 69, 94, 85, 74]\n",
    "}\n",
    "\n",
    "df = pd.DataFrame(employees_data7)\n",
    "print(\"sample dataset\")\n",
    "print(df)\n",
    "df[\"salary\"] = df[\"salary\"] * 1.05\n",
    "print(df)"
   ]
  },
  {
   "cell_type": "markdown",
   "id": "a1a355fe",
   "metadata": {},
   "source": [
    "# to DROP the columns\n",
    "1. df.drop(columns=[\"column_name\"], inplace=True)\n",
    "# inplace = true means it will remove from original dataframe\n",
    "# inplace = false means it will firstly create copy of dataframe and then remove it"
   ]
  },
  {
   "cell_type": "code",
   "execution_count": 27,
   "id": "5595e74f",
   "metadata": {},
   "outputs": [
    {
     "name": "stdout",
     "output_type": "stream",
     "text": [
      "sample dataset\n",
      "     name  age  salary  performance_score\n",
      "0   Aarav   28   55000                 82\n",
      "1  Bhavya   31   60000                 76\n",
      "2  Chetan   24   48000                 91\n",
      "3   Divya   29   62000                 88\n",
      "4   Eshan   26   53000                 69\n",
      "5   Farah   35   71000                 94\n",
      "6  Gautam   33   67000                 85\n",
      "7    Hina   27   50000                 74\n",
      "after modification\n",
      "     name  salary\n",
      "0   Aarav   55000\n",
      "1  Bhavya   60000\n",
      "2  Chetan   48000\n",
      "3   Divya   62000\n",
      "4   Eshan   53000\n",
      "5   Farah   71000\n",
      "6  Gautam   67000\n",
      "7    Hina   50000\n",
      "     name  salary\n",
      "0   Aarav   55000\n",
      "1  Bhavya   60000\n",
      "2  Chetan   48000\n",
      "3   Divya   62000\n",
      "4   Eshan   53000\n",
      "5   Farah   71000\n",
      "6  Gautam   67000\n",
      "7    Hina   50000\n"
     ]
    }
   ],
   "source": [
    "employees_data7 = {\n",
    "    \"name\": [\"Aarav\", \"Bhavya\", \"Chetan\", \"Divya\", \"Eshan\", \"Farah\", \"Gautam\", \"Hina\"],\n",
    "    \"age\": [28, 31, 24, 29, 26, 35, 33, 27],\n",
    "    \"salary\": [55000, 60000, 48000, 62000, 53000, 71000, 67000, 50000],\n",
    "    \"performance_score\": [82, 76, 91, 88, 69, 94, 85, 74]\n",
    "}\n",
    "\n",
    "df = pd.DataFrame(employees_data7)\n",
    "print(\"sample dataset\")\n",
    "print(df)\n",
    "print(\"after modification\")\n",
    "print(df.drop(columns=['performance_score',\"age\"], inplace=False)) # incase of copy we have to store it somewhere\n",
    "df.drop(columns=['performance_score',\"age\"], inplace=True) # there is no need to store it somewhere when it comes to original\n",
    "print(df)"
   ]
  },
  {
   "cell_type": "markdown",
   "id": "ee6c0639",
   "metadata": {},
   "source": [
    "# Handling missing values"
   ]
  },
  {
   "cell_type": "markdown",
   "id": "e620b3c5",
   "metadata": {},
   "source": [
    "1. NaN(not a number)\n",
    "2. None(for object data types)\n",
    "\n",
    "# isnull()\n",
    "1. True - Nan is missing\n",
    "2. False - value is present\n",
    "\n"
   ]
  },
  {
   "cell_type": "code",
   "execution_count": 37,
   "id": "30fda6dc",
   "metadata": {},
   "outputs": [
    {
     "name": "stdout",
     "output_type": "stream",
     "text": [
      "sample dataset\n",
      "     name   age   salary  performance_score\n",
      "0   Aarav  28.0  55000.0               82.0\n",
      "1  Bhavya  31.0  60000.0               76.0\n",
      "2    None   NaN      NaN                NaN\n",
      "3   Divya  29.0  62000.0               88.0\n",
      "4   Eshan  26.0  53000.0               69.0\n",
      "5   Farah  35.0  71000.0               94.0\n",
      "6  Gautam  33.0  67000.0               85.0\n",
      "7    Hina  27.0  50000.0               74.0\n",
      "    name    age  salary  performance_score\n",
      "0  False  False   False              False\n",
      "1  False  False   False              False\n",
      "2   True   True    True               True\n",
      "3  False  False   False              False\n",
      "4  False  False   False              False\n",
      "5  False  False   False              False\n",
      "6  False  False   False              False\n",
      "7  False  False   False              False\n",
      "name                 1\n",
      "age                  1\n",
      "salary               1\n",
      "performance_score    1\n",
      "dtype: int64\n"
     ]
    }
   ],
   "source": [
    "employees_data7 = {\n",
    "    \"name\": [\"Aarav\", \"Bhavya\", None, \"Divya\", \"Eshan\", \"Farah\", \"Gautam\", \"Hina\"],\n",
    "    \"age\": [28, 31, None, 29, 26, 35, 33, 27],\n",
    "    \"salary\": [55000, 60000, None, 62000, 53000, 71000, 67000, 50000],\n",
    "    \"performance_score\": [82, 76, None, 88, 69, 94, 85, 74]\n",
    "}\n",
    "\n",
    "df = pd.DataFrame(employees_data7)\n",
    "print(\"sample dataset\")\n",
    "print(df)\n",
    "print(df.isnull())\n",
    "print(df.isnull().sum())"
   ]
  },
  {
   "cell_type": "markdown",
   "id": "9912cb42",
   "metadata": {},
   "source": [
    "# handling the missing value by droping that part"
   ]
  },
  {
   "cell_type": "code",
   "execution_count": 35,
   "id": "0b107152",
   "metadata": {},
   "outputs": [
    {
     "name": "stdout",
     "output_type": "stream",
     "text": [
      "sample dataset\n",
      "     name   age   salary  performance_score\n",
      "0   Aarav  28.0  55000.0               82.0\n",
      "1  Bhavya  31.0  60000.0               76.0\n",
      "3   Divya  29.0  62000.0               88.0\n",
      "4   Eshan  26.0  53000.0               69.0\n",
      "5   Farah  35.0  71000.0               94.0\n",
      "6  Gautam  33.0  67000.0               85.0\n",
      "7    Hina  27.0  50000.0               74.0\n"
     ]
    }
   ],
   "source": [
    "employees_data7 = {\n",
    "    \"name\": [\"Aarav\", \"Bhavya\", None, \"Divya\", \"Eshan\", \"Farah\", \"Gautam\", \"Hina\"],\n",
    "    \"age\": [28, 31, None, 29, 26, 35, 33, 27],\n",
    "    \"salary\": [55000, 60000, None, 62000, 53000, 71000, 67000, 50000],\n",
    "    \"performance_score\": [82, 76, None, 88, 69, 94, 85, 74]\n",
    "}\n",
    "\n",
    "df = pd.DataFrame(employees_data7)\n",
    "print(\"sample dataset\")\n",
    "df.dropna(axis=0, inplace=True)\n",
    "print(df)"
   ]
  },
  {
   "cell_type": "markdown",
   "id": "ff668314",
   "metadata": {},
   "source": [
    "# handling the missing value by adding to some in that part"
   ]
  },
  {
   "cell_type": "code",
   "execution_count": null,
   "id": "ac5d8f6f",
   "metadata": {},
   "outputs": [
    {
     "name": "stdout",
     "output_type": "stream",
     "text": [
      "sample dataset\n",
      "     name   age   salary  performance_score\n",
      "0   Aarav  28.0  55000.0               82.0\n",
      "1  Bhavya  31.0  60000.0               76.0\n",
      "2       0   0.0      0.0                0.0\n",
      "3   Divya  29.0  62000.0               88.0\n",
      "4   Eshan  26.0  53000.0               69.0\n",
      "5   Farah  35.0  71000.0               94.0\n",
      "6  Gautam  33.0  67000.0               85.0\n",
      "7    Hina  27.0  50000.0               74.0\n"
     ]
    }
   ],
   "source": [
    "# way 1 - by assinging 0 by default\n",
    "employees_data7 = {\n",
    "    \"name\": [\"Aarav\", \"Bhavya\", None, \"Divya\", \"Eshan\", \"Farah\", \"Gautam\", \"Hina\"],\n",
    "    \"age\": [28, 31, None, 29, 26, 35, 33, 27],\n",
    "    \"salary\": [55000, 60000, None, 62000, 53000, 71000, 67000, 50000],\n",
    "    \"performance_score\": [82, 76, None, 88, 69, 94, 85, 74]\n",
    "}\n",
    "\n",
    "df = pd.DataFrame(employees_data7)\n",
    "print(\"sample dataset\")\n",
    "df.fillna(0, inplace=True)\n",
    "print(df)"
   ]
  },
  {
   "cell_type": "code",
   "execution_count": 50,
   "id": "5231f5ad",
   "metadata": {},
   "outputs": [
    {
     "name": "stdout",
     "output_type": "stream",
     "text": [
      "sample dataset\n",
      "     name   age   salary  performance_score\n",
      "0   Aarav  28.0  55000.0               82.0\n",
      "1  Bhavya  31.0  60000.0               76.0\n",
      "2    None   NaN      NaN                NaN\n",
      "3   Divya  29.0  62000.0               88.0\n",
      "4   Eshan  26.0  53000.0               69.0\n",
      "5   Farah  35.0  71000.0               94.0\n",
      "6  Gautam  33.0  67000.0               85.0\n",
      "7    Hina  27.0  50000.0               74.0\n",
      "      name    age    salary  performance_score\n",
      "0    Aarav  28.00  55000.00              82.00\n",
      "1   Bhavya  31.00  60000.00              76.00\n",
      "2  Unknown  29.86  59714.29              81.14\n",
      "3    Divya  29.00  62000.00              88.00\n",
      "4    Eshan  26.00  53000.00              69.00\n",
      "5    Farah  35.00  71000.00              94.00\n",
      "6   Gautam  33.00  67000.00              85.00\n",
      "7     Hina  27.00  50000.00              74.00\n"
     ]
    },
    {
     "name": "stderr",
     "output_type": "stream",
     "text": [
      "C:\\Users\\arthv\\AppData\\Local\\Temp\\ipykernel_24696\\1218579359.py:12: FutureWarning: A value is trying to be set on a copy of a DataFrame or Series through chained assignment using an inplace method.\n",
      "The behavior will change in pandas 3.0. This inplace method will never work because the intermediate object on which we are setting values always behaves as a copy.\n",
      "\n",
      "For example, when doing 'df[col].method(value, inplace=True)', try using 'df.method({col: value}, inplace=True)' or df[col] = df[col].method(value) instead, to perform the operation inplace on the original object.\n",
      "\n",
      "\n",
      "  df['name'].fillna(\"Unknown\", inplace=True)\n",
      "C:\\Users\\arthv\\AppData\\Local\\Temp\\ipykernel_24696\\1218579359.py:13: FutureWarning: A value is trying to be set on a copy of a DataFrame or Series through chained assignment using an inplace method.\n",
      "The behavior will change in pandas 3.0. This inplace method will never work because the intermediate object on which we are setting values always behaves as a copy.\n",
      "\n",
      "For example, when doing 'df[col].method(value, inplace=True)', try using 'df.method({col: value}, inplace=True)' or df[col] = df[col].method(value) instead, to perform the operation inplace on the original object.\n",
      "\n",
      "\n",
      "  df['age'].fillna(round(df['age'].mean(),2), inplace=True)\n",
      "C:\\Users\\arthv\\AppData\\Local\\Temp\\ipykernel_24696\\1218579359.py:14: FutureWarning: A value is trying to be set on a copy of a DataFrame or Series through chained assignment using an inplace method.\n",
      "The behavior will change in pandas 3.0. This inplace method will never work because the intermediate object on which we are setting values always behaves as a copy.\n",
      "\n",
      "For example, when doing 'df[col].method(value, inplace=True)', try using 'df.method({col: value}, inplace=True)' or df[col] = df[col].method(value) instead, to perform the operation inplace on the original object.\n",
      "\n",
      "\n",
      "  df['salary'].fillna(round(df['salary'].mean(),2), inplace=True)\n",
      "C:\\Users\\arthv\\AppData\\Local\\Temp\\ipykernel_24696\\1218579359.py:15: FutureWarning: A value is trying to be set on a copy of a DataFrame or Series through chained assignment using an inplace method.\n",
      "The behavior will change in pandas 3.0. This inplace method will never work because the intermediate object on which we are setting values always behaves as a copy.\n",
      "\n",
      "For example, when doing 'df[col].method(value, inplace=True)', try using 'df.method({col: value}, inplace=True)' or df[col] = df[col].method(value) instead, to perform the operation inplace on the original object.\n",
      "\n",
      "\n",
      "  df['performance_score'].fillna(round(df['performance_score'].mean(),2), inplace=True)\n"
     ]
    }
   ],
   "source": [
    "# way 1 - by assinging mean value by default\n",
    "employees_data7 = {\n",
    "    \"name\": [\"Aarav\", \"Bhavya\", None, \"Divya\", \"Eshan\", \"Farah\", \"Gautam\", \"Hina\"],\n",
    "    \"age\": [28, 31, None, 29, 26, 35, 33, 27],\n",
    "    \"salary\": [55000, 60000, None, 62000, 53000, 71000, 67000, 50000],\n",
    "    \"performance_score\": [82, 76, None, 88, 69, 94, 85, 74]\n",
    "}\n",
    "\n",
    "df = pd.DataFrame(employees_data7)\n",
    "print(\"sample dataset\")\n",
    "print(df)\n",
    "df['name'].fillna(\"Unknown\", inplace=True)\n",
    "df['age'].fillna(round(df['age'].mean(),2), inplace=True)\n",
    "df['salary'].fillna(round(df['salary'].mean(),2), inplace=True)\n",
    "df['performance_score'].fillna(round(df['performance_score'].mean(),2), inplace=True)\n",
    "print(df)"
   ]
  },
  {
   "cell_type": "markdown",
   "id": "a87f7c08",
   "metadata": {},
   "source": [
    "# interpolation: adding estimated value to none data like\n",
    "10,20,none,40,50 and here instead of none, 30 is added\n",
    "1. it will preserve data integrity\n",
    "2. smooth trends\n",
    "3. avoid data loss\n",
    "4. it uses linear, polynomial, time method and .interpolate() method is used\n",
    "5. works with time and numerical data\n"
   ]
  },
  {
   "cell_type": "code",
   "execution_count": 53,
   "id": "248acd74",
   "metadata": {},
   "outputs": [
    {
     "name": "stdout",
     "output_type": "stream",
     "text": [
      "sample dataset\n",
      "     name   age   salary  performance_score\n",
      "0   Aarav  28.0  55000.0               82.0\n",
      "1  Bhavya  31.0  60000.0               76.0\n",
      "2     avi   NaN      NaN                NaN\n",
      "3   Divya  29.0  62000.0               88.0\n",
      "4   Eshan  26.0  53000.0               69.0\n",
      "5   Farah  35.0  71000.0               94.0\n",
      "6  Gautam  33.0  67000.0               85.0\n",
      "7    Hina  27.0  50000.0               74.0\n",
      "     name   age   salary  performance_score\n",
      "0   Aarav  28.0  55000.0               82.0\n",
      "1  Bhavya  31.0  60000.0               76.0\n",
      "2     avi  30.0  61000.0               82.0\n",
      "3   Divya  29.0  62000.0               88.0\n",
      "4   Eshan  26.0  53000.0               69.0\n",
      "5   Farah  35.0  71000.0               94.0\n",
      "6  Gautam  33.0  67000.0               85.0\n",
      "7    Hina  27.0  50000.0               74.0\n"
     ]
    },
    {
     "name": "stderr",
     "output_type": "stream",
     "text": [
      "C:\\Users\\arthv\\AppData\\Local\\Temp\\ipykernel_24696\\367849293.py:11: FutureWarning: DataFrame.interpolate with object dtype is deprecated and will raise in a future version. Call obj.infer_objects(copy=False) before interpolating instead.\n",
      "  df.interpolate(method=\"linear\",axis = 0, inplace=True)\n"
     ]
    }
   ],
   "source": [
    "employees_data7 = {\n",
    "    \"name\": [\"Aarav\", \"Bhavya\", \"avi\", \"Divya\", \"Eshan\", \"Farah\", \"Gautam\", \"Hina\"],\n",
    "    \"age\": [28, 31, None, 29, 26, 35, 33, 27],\n",
    "    \"salary\": [55000, 60000, None, 62000, 53000, 71000, 67000, 50000],\n",
    "    \"performance_score\": [82, 76, None, 88, 69, 94, 85, 74]\n",
    "}\n",
    "\n",
    "df = pd.DataFrame(employees_data7)\n",
    "print(\"sample dataset\")\n",
    "print(df)\n",
    "df.interpolate(method=\"linear\",axis = 0, inplace=True)\n",
    "print(df)"
   ]
  },
  {
   "cell_type": "code",
   "execution_count": 55,
   "id": "806347a4",
   "metadata": {},
   "outputs": [
    {
     "name": "stdout",
     "output_type": "stream",
     "text": [
      "   time  value\n",
      "0     1   10.0\n",
      "1     2   20.0\n",
      "2     3   30.0\n",
      "3     4   40.0\n",
      "4     5   40.0\n"
     ]
    }
   ],
   "source": [
    "timezone = {\n",
    "  \"time\":[1,2,3,4,5],\n",
    "  \"value\":[10,20,None,40,None]\n",
    "}\n",
    "\n",
    "df = pd.DataFrame(timezone)\n",
    "df['value'] = df['value'].interpolate(method=\"linear\")\n",
    "print(df)"
   ]
  },
  {
   "cell_type": "markdown",
   "id": "41b7762b",
   "metadata": {},
   "source": [
    "# sorting data based on the requirements like in abcd manner \n",
    "1. to sort one column -> df.sort_values(by=\"column_name\",true/false, inplace=true) -> true:ascending manner, false:descending manner"
   ]
  },
  {
   "cell_type": "code",
   "execution_count": 61,
   "id": "d6da8725",
   "metadata": {},
   "outputs": [
    {
     "name": "stdout",
     "output_type": "stream",
     "text": [
      "   name  age  salary\n",
      "1  kavi    9     800\n",
      "2  ravi    6     600\n",
      "0   avi    5     500\n"
     ]
    }
   ],
   "source": [
    "# way-1\n",
    "data = {\n",
    "  \"name\":['avi','kavi','ravi'],\n",
    "  \"age\":[5,9,6],\n",
    "  \"salary\":[500,800,600]\n",
    "}\n",
    "\n",
    "df = pd.DataFrame(data)\n",
    "df.sort_values(by=\"salary\",ascending=False, inplace=True)\n",
    "print(df)"
   ]
  },
  {
   "cell_type": "code",
   "execution_count": 67,
   "id": "dad1163c",
   "metadata": {},
   "outputs": [
    {
     "name": "stdout",
     "output_type": "stream",
     "text": [
      "   name  age  salary\n",
      "0   avi    5    5020\n",
      "2  ravi    6    6100\n",
      "1  kavi    9     800\n"
     ]
    }
   ],
   "source": [
    "# way-2\n",
    "data = {\n",
    "  \"name\":['avi','kavi','ravi'],\n",
    "  \"age\":[5,9,6],\n",
    "  \"salary\":[5020,800,6100]\n",
    "}\n",
    "\n",
    "df = pd.DataFrame(data)\n",
    "df.sort_values(by=[\"age\",\"salary\"],ascending=[True, False], inplace=True)\n",
    "print(df)"
   ]
  },
  {
   "cell_type": "markdown",
   "id": "97713e67",
   "metadata": {},
   "source": [
    "# aggregation : summarizing things using some operation on it\n",
    "1. e.g.df[\"column_name\"].mean() "
   ]
  },
  {
   "cell_type": "code",
   "execution_count": 76,
   "id": "96530080",
   "metadata": {},
   "outputs": [
    {
     "name": "stdout",
     "output_type": "stream",
     "text": [
      "3973.3333333333335\n"
     ]
    }
   ],
   "source": [
    "data = {\n",
    "  \"name\":['avi','kavi','ravi'],\n",
    "  \"age\":[5,9,6],\n",
    "  \"salary\":[5020,800,6100]\n",
    "}\n",
    "\n",
    "df = pd.DataFrame(data)\n",
    "avg = df[\"salary\"].mean()\n",
    "print(avg)"
   ]
  },
  {
   "cell_type": "markdown",
   "id": "3999d529",
   "metadata": {},
   "source": [
    "# grouping : making group of things based on their category like apple, banana, watermelon"
   ]
  },
  {
   "cell_type": "code",
   "execution_count": 81,
   "id": "3a8a99d6",
   "metadata": {},
   "outputs": [
    {
     "name": "stdout",
     "output_type": "stream",
     "text": [
      "age\n",
      "5    5761\n",
      "6    6100\n",
      "8     652\n",
      "9    1300\n",
      "Name: salary, dtype: int64\n"
     ]
    }
   ],
   "source": [
    "data = {\n",
    "  \"name\":['avi','kavi','ravi','kiki','kaku','keval'],\n",
    "  \"age\":[5,9,6,9,8,5],\n",
    "  \"salary\":[5020,800,6100,500,652,741]\n",
    "}\n",
    "\n",
    "df = pd.DataFrame(data)\n",
    "group = df.groupby(\"age\")[\"salary\"].sum()\n",
    "print(group)"
   ]
  },
  {
   "cell_type": "code",
   "execution_count": 83,
   "id": "5a848a96",
   "metadata": {},
   "outputs": [
    {
     "name": "stdout",
     "output_type": "stream",
     "text": [
      "age  name \n",
      "5    avi      5020\n",
      "     keval     741\n",
      "6    ravi     6100\n",
      "8    kaku      652\n",
      "9    kavi      800\n",
      "     kiki      500\n",
      "Name: salary, dtype: int64\n"
     ]
    }
   ],
   "source": [
    "data = {\n",
    "  \"name\":['avi','kavi','ravi','kiki','kaku','keval'],\n",
    "  \"age\":[5,9,6,9,8,5],\n",
    "  \"salary\":[5020,800,6100,500,652,741]\n",
    "}\n",
    "\n",
    "df = pd.DataFrame(data)\n",
    "group = df.groupby([\"age\",\"name\"])[\"salary\"].sum()\n",
    "print(group)"
   ]
  },
  {
   "cell_type": "markdown",
   "id": "e6c0946d",
   "metadata": {},
   "source": [
    "# merging : merging take place based on common between two columns\n",
    "1. df.merge(df1, df2, on=\"common_column_name\", how=\"types of join\")"
   ]
  },
  {
   "cell_type": "code",
   "execution_count": 97,
   "id": "9d6078b8",
   "metadata": {},
   "outputs": [
    {
     "name": "stdout",
     "output_type": "stream",
     "text": [
      "   custom_id  name  salary\n",
      "0          1   avi     500\n",
      "1          2  raju     600\n"
     ]
    }
   ],
   "source": [
    "data1 = pd.DataFrame({\n",
    "  \"custom_id\":[1,2,3],\n",
    "  \"name\":[\"avi\",\"raju\",\"kaju\"]\n",
    "})\n",
    "\n",
    "data2 = pd.DataFrame({\n",
    "  \"custom_id\":[1,2,4],\n",
    "  \"salary\":[500,600,960]\n",
    "})\n",
    "\n",
    "merged = pd.merge(data1,data2, on=\"custom_id\", how=\"inner\")\n",
    "print(merged)\n"
   ]
  },
  {
   "cell_type": "markdown",
   "id": "831e006f",
   "metadata": {},
   "source": [
    "# concatination : joining two dataframes in one\n",
    "1. df.concat([df1, df2], axis=0/1, ignore_index = True/False)\n",
    "2. ignore_index = True -> means not consider index of two and False then consider"
   ]
  },
  {
   "cell_type": "code",
   "execution_count": 99,
   "id": "05836d0d",
   "metadata": {},
   "outputs": [
    {
     "name": "stdout",
     "output_type": "stream",
     "text": [
      "   0     1  2      3\n",
      "0  1   avi  4  sajan\n",
      "1  2  raju  5  gimmi\n",
      "2  3  kaju  6  devil\n"
     ]
    }
   ],
   "source": [
    "data1 = pd.DataFrame({\n",
    "  \"custom_id\":[1,2,3],\n",
    "  \"name\":[\"avi\",\"raju\",\"kaju\"]\n",
    "})\n",
    "\n",
    "data2 = pd.DataFrame({\n",
    "  \"custom_id\":[4,5,6],\n",
    "  \"name\":[\"sajan\",\"gimmi\",\"devil\"]\n",
    "})\n",
    "\n",
    "con = pd.concat([data1,data2],axis=1, ignore_index=True)\n",
    "print(con)"
   ]
  }
 ],
 "metadata": {
  "kernelspec": {
   "display_name": "Python 3",
   "language": "python",
   "name": "python3"
  },
  "language_info": {
   "codemirror_mode": {
    "name": "ipython",
    "version": 3
   },
   "file_extension": ".py",
   "mimetype": "text/x-python",
   "name": "python",
   "nbconvert_exporter": "python",
   "pygments_lexer": "ipython3",
   "version": "3.12.4"
  }
 },
 "nbformat": 4,
 "nbformat_minor": 5
}
