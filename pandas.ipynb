{
 "cells": [
  {
   "cell_type": "markdown",
   "id": "51b24f8d",
   "metadata": {},
   "source": [
    "# data manipulation : \n",
    " 1. handling in data like adding, deleting and performing some task on it like remove null entries (clean and transform data) \n",
    " 2. organize and structure raw data\n",
    "# data analysis : \n",
    " 1. getting insights from data like what is the highest marks and lowest marks like summrizing data is (generating insights from the data)\n",
    " 2. finding the pattern, trends and solve problems"
   ]
  },
  {
   "cell_type": "markdown",
   "id": "975cac94",
   "metadata": {},
   "source": [
    "# series is 1d thing used with index\n",
    "# dataframe is 2d thing used with row(indices) and column(names) and all pandas uses label things\n"
   ]
  },
  {
   "cell_type": "code",
   "execution_count": 31,
   "id": "debeed2b",
   "metadata": {},
   "outputs": [],
   "source": [
    "import pandas as pd"
   ]
  },
  {
   "cell_type": "code",
   "execution_count": 32,
   "id": "fda31d64",
   "metadata": {},
   "outputs": [
    {
     "name": "stdout",
     "output_type": "stream",
     "text": [
      "     Index   Height(Inches)\"   \"Weight(Pounds)\"\n",
      "0        1             65.78             112.99\n",
      "1        2             71.52             136.49\n",
      "2        3             69.40             153.03\n",
      "3        4             68.22             142.34\n",
      "4        5             67.79             144.30\n",
      "..     ...               ...                ...\n",
      "195    196             65.80             120.84\n",
      "196    197             66.11             115.78\n",
      "197    198             68.24             128.30\n",
      "198    199             68.02             127.47\n",
      "199    200             71.39             127.88\n",
      "\n",
      "[200 rows x 3 columns]\n"
     ]
    }
   ],
   "source": [
    "df = pd.read_csv(\"hw_200.csv\")\n",
    "print(df)"
   ]
  },
  {
   "cell_type": "code",
   "execution_count": null,
   "id": "2dc0db38",
   "metadata": {},
   "outputs": [
    {
     "name": "stdout",
     "output_type": "stream",
     "text": [
      "    Name  Age Department  Salary\n",
      "0    Avi   22         IT   50000\n",
      "1   Riya   24         HR   55000\n",
      "2  Karan   23    Finance   52000\n",
      "3  Sneha   21  Marketing   51000\n",
      "4  Arjun   25         IT   53000\n"
     ]
    }
   ],
   "source": [
    "df = pd.read_excel(\"sample_data.xlsx\")\n",
    "print(df)"
   ]
  }
 ],
 "metadata": {
  "kernelspec": {
   "display_name": "Python 3",
   "language": "python",
   "name": "python3"
  },
  "language_info": {
   "codemirror_mode": {
    "name": "ipython",
    "version": 3
   },
   "file_extension": ".py",
   "mimetype": "text/x-python",
   "name": "python",
   "nbconvert_exporter": "python",
   "pygments_lexer": "ipython3",
   "version": "3.12.4"
  }
 },
 "nbformat": 4,
 "nbformat_minor": 5
}
