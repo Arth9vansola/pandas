{
 "cells": [
  {
   "cell_type": "markdown",
   "id": "51b24f8d",
   "metadata": {},
   "source": [
    "# data manipulation : \n",
    " 1. handling in data like adding, deleting and performing some task on it like remove null entries (clean and transform data) \n",
    " 2. organize and structure raw data\n",
    "# data analysis : \n",
    " 1. getting insights from data like what is the highest marks and lowest marks like summrizing data is (generating insights from the data)\n",
    " 2. finding the pattern, trends and solve problems"
   ]
  },
  {
   "cell_type": "markdown",
   "id": "975cac94",
   "metadata": {},
   "source": [
    "# series is 1d thing used with index\n",
    "# dataframe is 2d thing used with row(indices) and column(names) and all pandas uses label things\n"
   ]
  },
  {
   "cell_type": "code",
   "execution_count": 2,
   "id": "debeed2b",
   "metadata": {},
   "outputs": [],
   "source": [
    "import pandas as pd"
   ]
  },
  {
   "cell_type": "code",
   "execution_count": 3,
   "id": "fda31d64",
   "metadata": {},
   "outputs": [
    {
     "name": "stdout",
     "output_type": "stream",
     "text": [
      "   Index   Height(Inches)\"   \"Weight(Pounds)\"\n",
      "0      1             65.78             112.99\n",
      "1      2             71.52             136.49\n",
      "2      3             69.40             153.03\n",
      "3      4             68.22             142.34\n",
      "4      5             67.79             144.30\n"
     ]
    }
   ],
   "source": [
    "df = pd.read_csv(\"hw_200.csv\",encoding=\"latin-1\")\n",
    "print(df.head())"
   ]
  },
  {
   "cell_type": "code",
   "execution_count": 4,
   "id": "2dc0db38",
   "metadata": {},
   "outputs": [
    {
     "name": "stdout",
     "output_type": "stream",
     "text": [
      "    Name  Age Department  Salary\n",
      "0    Avi   22         IT   50000\n",
      "1   Riya   24         HR   55000\n",
      "2  Karan   23    Finance   52000\n",
      "3  Sneha   21  Marketing   51000\n",
      "4  Arjun   25         IT   53000\n"
     ]
    }
   ],
   "source": [
    "df = pd.read_excel(\"sample_data.xlsx\")\n",
    "print(df)"
   ]
  },
  {
   "cell_type": "code",
   "execution_count": 5,
   "id": "8abf498b",
   "metadata": {},
   "outputs": [
    {
     "name": "stdout",
     "output_type": "stream",
     "text": [
      "   id   name  age       city  score\n",
      "0   1    Avi   23      Delhi   88.5\n",
      "1   2   Neha   25     Mumbai   92.0\n",
      "2   3   Ravi   22  Bangalore   79.0\n",
      "3   4  Sonia   24    Chennai   85.0\n",
      "4   5  Karan   21       Pune   91.0\n"
     ]
    }
   ],
   "source": [
    "df = pd.read_json(\"pandas_sample.json\")\n",
    "print(df)"
   ]
  },
  {
   "cell_type": "code",
   "execution_count": 6,
   "id": "c9117393",
   "metadata": {},
   "outputs": [
    {
     "name": "stdout",
     "output_type": "stream",
     "text": [
      "    Name  age         city\n",
      "0    avi   20     palanpur\n",
      "1     ak   30  gandhinagar\n",
      "2  devil   40    ahmedabad\n"
     ]
    }
   ],
   "source": [
    "students_data = {\n",
    "    \"Name\":[\"avi\",\"ak\",\"devil\"],\n",
    "    \"age\":[20,30,40],\n",
    "    \"city\":[\"palanpur\",\"gandhinagar\",\"ahmedabad\"]\n",
    "}\n",
    "\n",
    "df = pd.DataFrame(students_data)\n",
    "print(df)\n",
    "df.to_csv(\"output.csv\",index=False)"
   ]
  },
  {
   "cell_type": "code",
   "execution_count": 7,
   "id": "73e257fd",
   "metadata": {},
   "outputs": [
    {
     "name": "stdout",
     "output_type": "stream",
     "text": [
      "    Name  age         city\n",
      "0    avi   20     palanpur\n",
      "1     ak   30  gandhinagar\n",
      "2  devil   40    ahmedabad\n"
     ]
    }
   ],
   "source": [
    "df = pd.DataFrame(students_data)\n",
    "print(df)\n",
    "df.to_excel(\"output.xlsx\",index=False)\n",
    "df.to_json(\"output.json\",index=False)"
   ]
  },
  {
   "cell_type": "markdown",
   "id": "08cdac1f",
   "metadata": {},
   "source": [
    "# steps in dataset to perform:\n",
    "1. understand the data\n",
    "2. identify the problem\n",
    "3. plan the next step"
   ]
  },
  {
   "cell_type": "markdown",
   "id": "51d6b69a",
   "metadata": {},
   "source": [
    "1. to check first 5 entries from top .head(n) is used\n",
    "2. to check first 5 entries from end .tail(n) is used\n",
    "3. here by default value of n(int value must) is 5"
   ]
  },
  {
   "cell_type": "markdown",
   "id": "6944630f",
   "metadata": {},
   "source": [
    "# .info method is used to get the information about the data like\n",
    "1. columns, rows\n",
    "2. columns name\n",
    "3. datatypes\n",
    "4. memory usage"
   ]
  },
  {
   "cell_type": "code",
   "execution_count": 8,
   "id": "b28deaa7",
   "metadata": {},
   "outputs": [
    {
     "name": "stdout",
     "output_type": "stream",
     "text": [
      "<class 'pandas.core.frame.DataFrame'>\n",
      "RangeIndex: 3 entries, 0 to 2\n",
      "Data columns (total 3 columns):\n",
      " #   Column  Non-Null Count  Dtype \n",
      "---  ------  --------------  ----- \n",
      " 0   Name    3 non-null      object\n",
      " 1   age     3 non-null      int64 \n",
      " 2   city    3 non-null      object\n",
      "dtypes: int64(1), object(2)\n",
      "memory usage: 204.0+ bytes\n",
      "None\n"
     ]
    }
   ],
   "source": [
    "students_data2 = {\n",
    "    \"Name\":[\"avi\",\"ak\",\"devil\"],\n",
    "    \"age\":[20,30,40],\n",
    "    \"city\":[\"palanpur\",\"gandhinagar\",\"ahmedabad\"]\n",
    "}\n",
    "\n",
    "df = pd.DataFrame(students_data2)\n",
    "print(df.info())"
   ]
  },
  {
   "cell_type": "markdown",
   "id": "15224bcd",
   "metadata": {},
   "source": [
    "# .describe method is used to gain details of data like mean,std,max and all"
   ]
  },
  {
   "cell_type": "code",
   "execution_count": 9,
   "id": "dbaeb349",
   "metadata": {},
   "outputs": [
    {
     "name": "stdout",
     "output_type": "stream",
     "text": [
      "             age        salary  performance_score\n",
      "count   8.000000      8.000000           8.000000\n",
      "mean   29.125000  58250.000000          82.375000\n",
      "std     3.681518   8172.252706           8.765802\n",
      "min    24.000000  48000.000000          69.000000\n",
      "25%    26.750000  52250.000000          75.500000\n",
      "50%    28.500000  57500.000000          83.500000\n",
      "75%    31.500000  63250.000000          88.750000\n",
      "max    35.000000  71000.000000          94.000000\n"
     ]
    }
   ],
   "source": [
    "employees_data = {\n",
    "    \"name\": [\"Aarav\", \"Bhavya\", \"Chetan\", \"Divya\", \"Eshan\", \"Farah\", \"Gautam\", \"Hina\"],\n",
    "    \"age\": [28, 31, 24, 29, 26, 35, 33, 27],\n",
    "    \"salary\": [55000, 60000, 48000, 62000, 53000, 71000, 67000, 50000],\n",
    "    \"performance_score\": [82, 76, 91, 88, 69, 94, 85, 74]\n",
    "}\n",
    "\n",
    "df = pd.DataFrame(employees_data)\n",
    "print(df.describe())"
   ]
  },
  {
   "cell_type": "markdown",
   "id": "952367f2",
   "metadata": {},
   "source": [
    "# we can access shape by .shape which includes (rows,columns) and .columns to get columns names"
   ]
  },
  {
   "cell_type": "code",
   "execution_count": 11,
   "id": "e857e1ea",
   "metadata": {},
   "outputs": [
    {
     "name": "stdout",
     "output_type": "stream",
     "text": [
      "     name  age  salary  performance_score\n",
      "0   Aarav   28   55000                 82\n",
      "1  Bhavya   31   60000                 76\n",
      "2  Chetan   24   48000                 91\n",
      "3   Divya   29   62000                 88\n",
      "4   Eshan   26   53000                 69\n",
      "5   Farah   35   71000                 94\n",
      "6  Gautam   33   67000                 85\n",
      "7    Hina   27   50000                 74\n",
      "shape of it (8, 4)\n",
      "columns name Index(['name', 'age', 'salary', 'performance_score'], dtype='object')\n"
     ]
    }
   ],
   "source": [
    "employees_data2 = {\n",
    "    \"name\": [\"Aarav\", \"Bhavya\", \"Chetan\", \"Divya\", \"Eshan\", \"Farah\", \"Gautam\", \"Hina\"],\n",
    "    \"age\": [28, 31, 24, 29, 26, 35, 33, 27],\n",
    "    \"salary\": [55000, 60000, 48000, 62000, 53000, 71000, 67000, 50000],\n",
    "    \"performance_score\": [82, 76, 91, 88, 69, 94, 85, 74]\n",
    "}\n",
    "\n",
    "df = pd.DataFrame(employees_data2)\n",
    "print(df)\n",
    "print(f'shape of it {df.shape}')\n",
    "print(f'columns name {df.columns}')"
   ]
  },
  {
   "cell_type": "markdown",
   "id": "431f4287",
   "metadata": {},
   "source": [
    "# to select columns\n",
    "1. for single columns return series\n",
    "2. for multiple columns return dataframe"
   ]
  },
  {
   "cell_type": "code",
   "execution_count": null,
   "id": "dab841ff",
   "metadata": {},
   "outputs": [
    {
     "name": "stdout",
     "output_type": "stream",
     "text": [
      "sample dataset\n",
      "     name  age  salary  performance_score\n",
      "0   Aarav   28   55000                 82\n",
      "1  Bhavya   31   60000                 76\n",
      "2  Chetan   24   48000                 91\n",
      "3   Divya   29   62000                 88\n",
      "4   Eshan   26   53000                 69\n",
      "5   Farah   35   71000                 94\n",
      "6  Gautam   33   67000                 85\n",
      "7    Hina   27   50000                 74\n",
      "selecting single Name column\n",
      "0     Aarav\n",
      "1    Bhavya\n",
      "2    Chetan\n",
      "3     Divya\n",
      "4     Eshan\n",
      "5     Farah\n",
      "6    Gautam\n",
      "7      Hina\n",
      "Name: name, dtype: object\n",
      "selecting multiple Name, Age column\n",
      "     name  age\n",
      "0   Aarav   28\n",
      "1  Bhavya   31\n",
      "2  Chetan   24\n",
      "3   Divya   29\n",
      "4   Eshan   26\n",
      "5   Farah   35\n",
      "6  Gautam   33\n",
      "7    Hina   27\n"
     ]
    }
   ],
   "source": [
    "employees_data3 = {\n",
    "    \"name\": [\"Aarav\", \"Bhavya\", \"Chetan\", \"Divya\", \"Eshan\", \"Farah\", \"Gautam\", \"Hina\"],\n",
    "    \"age\": [28, 31, 24, 29, 26, 35, 33, 27],\n",
    "    \"salary\": [55000, 60000, 48000, 62000, 53000, 71000, 67000, 50000],\n",
    "    \"performance_score\": [82, 76, 91, 88, 69, 94, 85, 74]\n",
    "}\n",
    "\n",
    "df = pd.DataFrame(employees_data3)\n",
    "print(\"sample dataset\")\n",
    "print(df)\n",
    "print('selecting single Name column')\n",
    "print(df[\"name\"]) # for single columns\n",
    "print('selecting multiple Name, Age column')\n",
    "print(df[[\"name\",\"age\"]]) # for multiple columns"
   ]
  },
  {
   "cell_type": "code",
   "execution_count": 29,
   "id": "e741798a",
   "metadata": {},
   "outputs": [
    {
     "name": "stdout",
     "output_type": "stream",
     "text": [
      "sample dataset\n",
      "     name  age  salary  performance_score\n",
      "0   Aarav   28   55000                 82\n",
      "1  Bhavya   31   60000                 76\n",
      "3   Divya   29   62000                 88\n",
      "4   Eshan   26   53000                 69\n",
      "5   Farah   35   71000                 94\n",
      "6  Gautam   33   67000                 85\n",
      "\n",
      "age is 20 plus and salary is 60,000\n",
      "     name  age  salary  performance_score\n",
      "3   Divya   29   62000                 88\n",
      "5   Farah   35   71000                 94\n",
      "6  Gautam   33   67000                 85\n",
      "\n",
      "age is 30 plus or performance_score > 90\n",
      "     name  age  salary  performance_score\n",
      "1  Bhavya   31   60000                 76\n",
      "2  Chetan   24   48000                 91\n",
      "5   Farah   35   71000                 94\n",
      "6  Gautam   33   67000                 85\n"
     ]
    }
   ],
   "source": [
    "employees_data4 = {\n",
    "    \"name\": [\"Aarav\", \"Bhavya\", \"Chetan\", \"Divya\", \"Eshan\", \"Farah\", \"Gautam\", \"Hina\"],\n",
    "    \"age\": [28, 31, 24, 29, 26, 35, 33, 27],\n",
    "    \"salary\": [55000, 60000, 48000, 62000, 53000, 71000, 67000, 50000],\n",
    "    \"performance_score\": [82, 76, 91, 88, 69, 94, 85, 74]\n",
    "}\n",
    "\n",
    "df = pd.DataFrame(employees_data4)\n",
    "print(\"sample dataset\")\n",
    "print(df[df['salary']>50000]) # based on the condition extracting data\n",
    "\n",
    "# age is 20 plus and salary is 60,000 plus\n",
    "print(\"\\nage is 20 plus and salary is 60,000\")\n",
    "print(df[(df[\"age\"]>20) & (df[\"salary\"]>60000)])\n",
    "\n",
    "# age is 30 plus or performance_score > 90\n",
    "print(\"\\nage is 30 plus or performance_score > 90\")\n",
    "print(df[(df[\"age\"] > 30) | (df[\"performance_score\"] > 90)])"
   ]
  }
 ],
 "metadata": {
  "kernelspec": {
   "display_name": "Python 3",
   "language": "python",
   "name": "python3"
  },
  "language_info": {
   "codemirror_mode": {
    "name": "ipython",
    "version": 3
   },
   "file_extension": ".py",
   "mimetype": "text/x-python",
   "name": "python",
   "nbconvert_exporter": "python",
   "pygments_lexer": "ipython3",
   "version": "3.12.4"
  }
 },
 "nbformat": 4,
 "nbformat_minor": 5
}
