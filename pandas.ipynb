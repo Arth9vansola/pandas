{
 "cells": [
  {
   "cell_type": "markdown",
   "id": "51b24f8d",
   "metadata": {},
   "source": [
    "# data manipulation : \n",
    " 1. handling in data like adding, deleting and performing some task on it like remove null entries (clean and transform data) \n",
    " 2. organize and structure raw data\n",
    "# data analysis : \n",
    " 1. getting insights from data like what is the highest marks and lowest marks like summrizing data is (generating insights from the data)\n",
    " 2. finding the pattern, trends and solve problems"
   ]
  },
  {
   "cell_type": "markdown",
   "id": "975cac94",
   "metadata": {},
   "source": [
    "# series is 1d thing used with index\n",
    "# dataframe is 2d thing used with row(indices) and column(names) and all pandas uses label things\n"
   ]
  },
  {
   "cell_type": "code",
   "execution_count": 3,
   "id": "debeed2b",
   "metadata": {},
   "outputs": [],
   "source": [
    "import pandas as pd"
   ]
  },
  {
   "cell_type": "code",
   "execution_count": 19,
   "id": "fda31d64",
   "metadata": {},
   "outputs": [
    {
     "name": "stdout",
     "output_type": "stream",
     "text": [
      "   Index   Height(Inches)\"   \"Weight(Pounds)\"\n",
      "0      1             65.78             112.99\n",
      "1      2             71.52             136.49\n",
      "2      3             69.40             153.03\n",
      "3      4             68.22             142.34\n",
      "4      5             67.79             144.30\n"
     ]
    }
   ],
   "source": [
    "df = pd.read_csv(\"hw_200.csv\",encoding=\"latin-1\")\n",
    "print(df.head())"
   ]
  },
  {
   "cell_type": "code",
   "execution_count": 5,
   "id": "2dc0db38",
   "metadata": {},
   "outputs": [
    {
     "name": "stdout",
     "output_type": "stream",
     "text": [
      "    Name  Age Department  Salary\n",
      "0    Avi   22         IT   50000\n",
      "1   Riya   24         HR   55000\n",
      "2  Karan   23    Finance   52000\n",
      "3  Sneha   21  Marketing   51000\n",
      "4  Arjun   25         IT   53000\n"
     ]
    }
   ],
   "source": [
    "df = pd.read_excel(\"sample_data.xlsx\")\n",
    "print(df)"
   ]
  },
  {
   "cell_type": "code",
   "execution_count": 6,
   "id": "8abf498b",
   "metadata": {},
   "outputs": [
    {
     "name": "stdout",
     "output_type": "stream",
     "text": [
      "   id   name  age       city  score\n",
      "0   1    Avi   23      Delhi   88.5\n",
      "1   2   Neha   25     Mumbai   92.0\n",
      "2   3   Ravi   22  Bangalore   79.0\n",
      "3   4  Sonia   24    Chennai   85.0\n",
      "4   5  Karan   21       Pune   91.0\n"
     ]
    }
   ],
   "source": [
    "df = pd.read_json(\"pandas_sample.json\")\n",
    "print(df)"
   ]
  },
  {
   "cell_type": "code",
   "execution_count": 12,
   "id": "c9117393",
   "metadata": {},
   "outputs": [
    {
     "name": "stdout",
     "output_type": "stream",
     "text": [
      "    Name  age         city\n",
      "0    avi   20     palanpur\n",
      "1     ak   30  gandhinagar\n",
      "2  devil   40    ahmedabad\n"
     ]
    }
   ],
   "source": [
    "students_data = {\n",
    "    \"Name\":[\"avi\",\"ak\",\"devil\"],\n",
    "    \"age\":[20,30,40],\n",
    "    \"city\":[\"palanpur\",\"gandhinagar\",\"ahmedabad\"]\n",
    "}\n",
    "\n",
    "df = pd.DataFrame(students_data)\n",
    "print(df)\n",
    "df.to_csv(\"output.csv\",index=False)"
   ]
  },
  {
   "cell_type": "code",
   "execution_count": 14,
   "id": "73e257fd",
   "metadata": {},
   "outputs": [
    {
     "name": "stdout",
     "output_type": "stream",
     "text": [
      "    Name  age         city\n",
      "0    avi   20     palanpur\n",
      "1     ak   30  gandhinagar\n",
      "2  devil   40    ahmedabad\n"
     ]
    }
   ],
   "source": [
    "df = pd.DataFrame(students_data)\n",
    "print(df)\n",
    "df.to_excel(\"output.xlsx\",index=False)\n",
    "df.to_json(\"output.json\",index=False)"
   ]
  },
  {
   "cell_type": "markdown",
   "id": "08cdac1f",
   "metadata": {},
   "source": [
    "# steps in dataset to perform:\n",
    "1. understand the data\n",
    "2. identify the problem\n",
    "3. plan the next step"
   ]
  },
  {
   "cell_type": "markdown",
   "id": "51d6b69a",
   "metadata": {},
   "source": [
    "1. to check first 5 entries from top .head(n) is used\n",
    "2. to check first 5 entries from end .tail(n) is used\n",
    "3. here by default value of n(int value must) is 5"
   ]
  }
 ],
 "metadata": {
  "kernelspec": {
   "display_name": "Python 3",
   "language": "python",
   "name": "python3"
  },
  "language_info": {
   "codemirror_mode": {
    "name": "ipython",
    "version": 3
   },
   "file_extension": ".py",
   "mimetype": "text/x-python",
   "name": "python",
   "nbconvert_exporter": "python",
   "pygments_lexer": "ipython3",
   "version": "3.12.4"
  }
 },
 "nbformat": 4,
 "nbformat_minor": 5
}
